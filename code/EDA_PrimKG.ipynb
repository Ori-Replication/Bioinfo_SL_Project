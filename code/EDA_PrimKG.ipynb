{
 "cells": [
  {
   "cell_type": "code",
   "execution_count": 26,
   "metadata": {},
   "outputs": [],
   "source": [
    "import pickle\n",
    "import json"
   ]
  },
  {
   "cell_type": "code",
   "execution_count": 27,
   "metadata": {},
   "outputs": [],
   "source": [
    "class args :\n",
    "    def __init__(self):\n",
    "        self.Full_data_path=r'../data/download_data/kgdata.pkl'\n",
    "        self.node_type='gene/protein'\n",
    "        self.Task_data_path = '../ref_projects/LukePi/data/SL'\n",
    "        self.cv = 'CV3'\n",
    "        self.n_fold = 5\n",
    "\n",
    "args=args()"
   ]
  },
  {
   "cell_type": "code",
   "execution_count": 28,
   "metadata": {},
   "outputs": [],
   "source": [
    "with open (args.Full_data_path,'rb') as f:\n",
    "    kgdata=pickle.load(f)\n",
    "with open(\"../data/download_data/node_index_dic.json\",'rb') as f:\n",
    "    node_index=json.load(f)"
   ]
  },
  {
   "cell_type": "code",
   "execution_count": 29,
   "metadata": {},
   "outputs": [
    {
     "name": "stdout",
     "output_type": "stream",
     "text": [
      "['edge_index', 'x']\n",
      "HeteroData(\n",
      "  anatomy={ x=[14035, 1] },\n",
      "  biological_process={ x=[28642, 1] },\n",
      "  cellular_component={ x=[4176, 1] },\n",
      "  disease={ x=[17080, 1] },\n",
      "  drug={ x=[7957, 1] },\n",
      "  effect/phenotype={ x=[15311, 1] },\n",
      "  exposure={ x=[818, 1] },\n",
      "  gene/protein={ x=[27671, 1] },\n",
      "  molecular_function={ x=[11169, 1] },\n",
      "  pathway={ x=[2516, 1] },\n",
      "  (disease, disease_phenotype_negative, effect/phenotype)={ edge_index=[2, 1365] },\n",
      "  (molecular_function, molfunc_protein, gene/protein)={ edge_index=[2, 69530] },\n",
      "  (drug, off-label use, disease)={ edge_index=[2, 2730] },\n",
      "  (drug, indication, disease)={ edge_index=[2, 9600] },\n",
      "  (drug, drug_effect, effect/phenotype)={ edge_index=[2, 64784] },\n",
      "  (molecular_function, molfunc_molfunc, molecular_function)={ edge_index=[2, 27148] },\n",
      "  (pathway, pathway_protein, gene/protein)={ edge_index=[2, 42646] },\n",
      "  (pathway, pathway_pathway, pathway)={ edge_index=[2, 5070] },\n",
      "  (anatomy, anatomy_anatomy, anatomy)={ edge_index=[2, 28064] },\n",
      "  (anatomy, anatomy_protein_present, gene/protein)={ edge_index=[2, 1518205] },\n",
      "  (drug, drug_protein, gene/protein)={ edge_index=[2, 26763] },\n",
      "  (exposure, exposure_bioprocess, biological_process)={ edge_index=[2, 1625] },\n",
      "  (gene/protein, protein_protein, gene/protein)={ edge_index=[2, 642150] },\n",
      "  (effect/phenotype, phenotype_phenotype, effect/phenotype)={ edge_index=[2, 37472] },\n",
      "  (biological_process, bioprocess_bioprocess, biological_process)={ edge_index=[2, 105772] },\n",
      "  (exposure, exposure_molfunc, molecular_function)={ edge_index=[2, 45] },\n",
      "  (cellular_component, cellcomp_protein, gene/protein)={ edge_index=[2, 83402] },\n",
      "  (effect/phenotype, phenotype_protein, gene/protein)={ edge_index=[2, 3330] },\n",
      "  (exposure, exposure_exposure, exposure)={ edge_index=[2, 4140] },\n",
      "  (cellular_component, cellcomp_cellcomp, cellular_component)={ edge_index=[2, 9690] },\n",
      "  (disease, disease_disease, disease)={ edge_index=[2, 64388] },\n",
      "  (exposure, exposure_cellcomp, cellular_component)={ edge_index=[2, 10] },\n",
      "  (anatomy, anatomy_protein_absent, gene/protein)={ edge_index=[2, 19889] },\n",
      "  (exposure, exposure_protein, gene/protein)={ edge_index=[2, 1212] },\n",
      "  (drug, drug_drug, drug)={ edge_index=[2, 2672628] },\n",
      "  (disease, disease_phenotype_positive, effect/phenotype)={ edge_index=[2, 150489] },\n",
      "  (drug, contraindication, disease)={ edge_index=[2, 30799] },\n",
      "  (exposure, exposure_disease, disease)={ edge_index=[2, 2304] },\n",
      "  (biological_process, bioprocess_protein, gene/protein)={ edge_index=[2, 144805] },\n",
      "  (disease, disease_protein, gene/protein)={ edge_index=[2, 80411] },\n",
      "  (effect/phenotype, rev_disease_phenotype_negative, disease)={ edge_index=[2, 1365] },\n",
      "  (gene/protein, rev_molfunc_protein, molecular_function)={ edge_index=[2, 69530] },\n",
      "  (disease, rev_off-label use, drug)={ edge_index=[2, 2730] },\n",
      "  (disease, rev_indication, drug)={ edge_index=[2, 9600] },\n",
      "  (effect/phenotype, rev_drug_effect, drug)={ edge_index=[2, 64784] },\n",
      "  (gene/protein, rev_pathway_protein, pathway)={ edge_index=[2, 42646] },\n",
      "  (gene/protein, rev_anatomy_protein_present, anatomy)={ edge_index=[2, 1518205] },\n",
      "  (gene/protein, rev_drug_protein, drug)={ edge_index=[2, 26763] },\n",
      "  (biological_process, rev_exposure_bioprocess, exposure)={ edge_index=[2, 1625] },\n",
      "  (molecular_function, rev_exposure_molfunc, exposure)={ edge_index=[2, 45] },\n",
      "  (gene/protein, rev_cellcomp_protein, cellular_component)={ edge_index=[2, 83402] },\n",
      "  (gene/protein, rev_phenotype_protein, effect/phenotype)={ edge_index=[2, 3330] },\n",
      "  (cellular_component, rev_exposure_cellcomp, exposure)={ edge_index=[2, 10] },\n",
      "  (gene/protein, rev_anatomy_protein_absent, anatomy)={ edge_index=[2, 19889] },\n",
      "  (gene/protein, rev_exposure_protein, exposure)={ edge_index=[2, 1212] },\n",
      "  (effect/phenotype, rev_disease_phenotype_positive, disease)={ edge_index=[2, 150489] },\n",
      "  (disease, rev_contraindication, drug)={ edge_index=[2, 30799] },\n",
      "  (disease, rev_exposure_disease, exposure)={ edge_index=[2, 2304] },\n",
      "  (gene/protein, rev_bioprocess_protein, biological_process)={ edge_index=[2, 144805] },\n",
      "  (gene/protein, rev_disease_protein, disease)={ edge_index=[2, 80411] }\n",
      ")\n"
     ]
    }
   ],
   "source": [
    "print(kgdata.keys())\n",
    "print(kgdata)"
   ]
  },
  {
   "cell_type": "code",
   "execution_count": 30,
   "metadata": {},
   "outputs": [],
   "source": [
    "import argparse\n",
    "import json\n",
    "import logging\n",
    "from time import time\n",
    "import os\n",
    "import torch_geometric.transforms as T\n",
    "from MyLoader import HeteroDataset\n",
    "import torch\n",
    "import torch.nn as nn\n",
    "import torch.nn.functional as F\n",
    "import torch.optim as optim\n",
    "from tqdm import tqdm\n",
    "import numpy as np\n",
    "from model import HGT\n",
    "import pandas as pd\n",
    "\n",
    "import pickle\n",
    "import math\n",
    "from torch_geometric.datasets import OGB_MAG\n",
    "import torch.nn.init as init\n",
    "from sklearn.metrics import f1_score, roc_auc_score,auc,balanced_accuracy_score,cohen_kappa_score,precision_recall_curve"
   ]
  },
  {
   "cell_type": "code",
   "execution_count": 32,
   "metadata": {},
   "outputs": [
    {
     "ename": "NameError",
     "evalue": "name 'gene_protein' is not defined",
     "output_type": "error",
     "traceback": [
      "\u001b[1;31m---------------------------------------------------------------------------\u001b[0m",
      "\u001b[1;31mNameError\u001b[0m                                 Traceback (most recent call last)",
      "Cell \u001b[1;32mIn[32], line 61\u001b[0m\n\u001b[0;32m     57\u001b[0m     \u001b[38;5;28;01mreturn\u001b[39;00m train_loader,test_loader\n\u001b[0;32m     60\u001b[0m n_fold \u001b[38;5;241m=\u001b[39m args\u001b[38;5;241m.\u001b[39mn_fold\n\u001b[1;32m---> 61\u001b[0m train_data,test_data,train_mask,test_mask,num_train_node,num_test_node\u001b[38;5;241m=\u001b[39mDownstream_data_preprocess(args,args\u001b[38;5;241m.\u001b[39mcv,n_fold,\u001b[43mgene_protein\u001b[49m)\n\u001b[0;32m     62\u001b[0m train_loader, test_loader \u001b[38;5;241m=\u001b[39m Construct_loader(args,kgdata,train_mask,test_mask,args\u001b[38;5;241m.\u001b[39mnode_type,num_train_node,num_test_node)\n",
      "\u001b[1;31mNameError\u001b[0m: name 'gene_protein' is not defined"
     ]
    }
   ],
   "source": [
    "from torch_geometric.loader import HGTLoader\n",
    "\n",
    "def Downstream_data_preprocess(args,cv,n_fold,node_type_dict): #FIXME\n",
    "    \"\"\"\n",
    "    load SL data and preprocess before training \n",
    "    \"\"\"\n",
    "    task_data_path=args.Task_data_path\n",
    "    train_data=pd.read_csv(f\"{task_data_path}/{cv}/cv_{n_fold}/train.txt\",header=None,sep=' ')\n",
    "    test_data=pd.read_csv(f\"{task_data_path}/{cv}/cv_{n_fold}/test.txt\",header=None,sep=' ')\n",
    "   \n",
    "    test_data.columns=[0,1,2]\n",
    "    train_data[0]=train_data[0].astype(str).map(node_type_dict)\n",
    "    train_data[1]=train_data[1].astype(str).map(node_type_dict)\n",
    "    test_data[0]=test_data[0].astype(str).map(node_type_dict)\n",
    "    test_data[1]=test_data[1].astype(str).map(node_type_dict)\n",
    "    train_data=train_data.dropna()\n",
    "    test_data=test_data.dropna()\n",
    "    train_data[0]=train_data[0].astype(int)\n",
    "    train_data[1]=train_data[1].astype(int)\n",
    "    test_data[0]=test_data[0].astype(int)\n",
    "    test_data[1]=test_data[1].astype(int)\n",
    "    # low data scenario settings\n",
    "    if args.do_low_data:\n",
    "        num_sample=int(train_data.shape[0]*args.train_data_ratio)\n",
    "        print(num_sample)\n",
    "        train_data=train_data.sample(num_sample,replace=False,random_state=0)\n",
    "        train_data.reset_index(inplace=True)\n",
    "        print(f'train_data.size:{train_data.shape[0]}')\n",
    "\n",
    "    train_node=list(set(train_data[0])|set(train_data[1]))\n",
    "    train_mask=torch.zeros((27671))\n",
    "    test_mask=torch.zeros((27671))\n",
    "    test_node=list(set(test_data[0])|set(test_data[1]))\n",
    "    train_mask[train_node]=1\n",
    "    test_mask[test_node]=1\n",
    "    train_mask=train_mask.bool()\n",
    "    test_mask=test_mask.bool()\n",
    "    num_train_node=len(train_node)\n",
    "    num_test_node=len(test_node)\n",
    "    return train_data,test_data,train_mask,test_mask,num_train_node,num_test_node\n",
    "\n",
    "def Construct_loader(args,kgdata,train_mask,test_mask,node_type,num_train_node,num_test_node):\n",
    "    \"\"\"\n",
    "    construct loader for train/test data\n",
    "    \"\"\"\n",
    "\n",
    "    train_loader = HGTLoader(kgdata,\n",
    "    num_samples={key: [args.sample_nodes] * args.sample_layers for key in kgdata.node_types},shuffle=False,\n",
    "    batch_size=num_train_node,\n",
    "    input_nodes=(node_type,train_mask),num_workers=args.num_workers)\n",
    "\n",
    "    test_loader=HGTLoader(kgdata,\n",
    "    num_samples={key: [args.sample_nodes] * args.sample_layers for key in kgdata.node_types},\n",
    "    batch_size=num_test_node,\n",
    "    input_nodes=(node_type,test_mask),num_workers=args.num_workers,shuffle=False)\n",
    "\n",
    "    return train_loader,test_loader\n",
    "\n",
    "\n",
    "n_fold = args.n_fold\n",
    "train_data,test_data,train_mask,test_mask,num_train_node,num_test_node=Downstream_data_preprocess(args,args.cv,n_fold,gene_protein)\n",
    "train_loader, test_loader = Construct_loader(args,kgdata,train_mask,test_mask,args.node_type,num_train_node,num_test_node)"
   ]
  },
  {
   "cell_type": "code",
   "execution_count": null,
   "metadata": {},
   "outputs": [],
   "source": [
    "node_type=args.node_type\n",
    "num_nodes_type=len(kgdata.node_types)\n",
    "num_edge_type=len(kgdata.edge_types)\n",
    "num_nodes=kgdata.num_nodes"
   ]
  },
  {
   "cell_type": "code",
   "execution_count": null,
   "metadata": {},
   "outputs": [
    {
     "data": {
      "text/plain": [
       "['anatomy',\n",
       " 'biological_process',\n",
       " 'cellular_component',\n",
       " 'disease',\n",
       " 'drug',\n",
       " 'effect/phenotype',\n",
       " 'exposure',\n",
       " 'gene/protein',\n",
       " 'molecular_function',\n",
       " 'pathway']"
      ]
     },
     "execution_count": 8,
     "metadata": {},
     "output_type": "execute_result"
    }
   ],
   "source": [
    "kgdata.node_types"
   ]
  },
  {
   "cell_type": "code",
   "execution_count": null,
   "metadata": {},
   "outputs": [
    {
     "data": {
      "text/plain": [
       "129375"
      ]
     },
     "execution_count": 9,
     "metadata": {},
     "output_type": "execute_result"
    }
   ],
   "source": [
    "num_nodes=kgdata.num_nodes\n",
    "num_nodes"
   ]
  },
  {
   "cell_type": "code",
   "execution_count": null,
   "metadata": {},
   "outputs": [],
   "source": [
    "input_node_embeddings = torch.nn.Embedding(num_nodes_type, 16)"
   ]
  },
  {
   "cell_type": "code",
   "execution_count": null,
   "metadata": {},
   "outputs": [
    {
     "data": {
      "text/plain": [
       "tensor([[ 0.2647, -0.3318,  1.9300,  0.7090,  2.1468,  1.0788, -1.8217,  0.5937,\n",
       "          1.3203,  0.3222,  1.2115, -0.1300,  0.1351, -2.3575,  0.1373, -0.9029],\n",
       "        [ 2.6803, -1.6097, -0.1909, -1.0081, -0.2722,  0.3071, -0.6171, -1.1328,\n",
       "         -1.3235,  0.5680, -0.0482,  0.9665,  0.5694,  2.0087, -1.2142,  0.4647],\n",
       "        [-1.2270,  0.3460,  0.6839,  0.0995,  0.5282, -0.8753, -0.2060, -1.4988,\n",
       "          0.2550, -0.1892, -0.9877,  0.1544,  1.5109,  1.2141,  0.3656,  0.6832],\n",
       "        [ 1.0723, -1.2680,  1.5123, -0.3494,  1.1303,  0.2936, -1.0086, -0.2305,\n",
       "         -0.0867,  0.5867,  2.3677,  1.6656,  0.3009,  1.7255,  0.8373, -0.6350],\n",
       "        [ 0.7550, -0.2788,  0.1110,  1.6777,  0.8265,  0.9138,  0.6897,  0.3184,\n",
       "         -1.6997, -2.0051, -0.2839, -0.4002,  0.7139,  0.9077,  0.3302,  0.9257],\n",
       "        [ 0.3193,  2.9194,  0.3326, -0.1390,  0.8928, -0.3686, -0.3867,  0.4544,\n",
       "         -0.5156, -1.0124, -0.8428,  1.1027,  0.9954,  1.3821,  1.3825, -1.4479],\n",
       "        [ 0.3182,  1.7265, -1.0609, -1.9305, -1.1442, -0.9230, -0.7563, -0.8904,\n",
       "          0.4362,  0.8436, -1.3440, -1.3004, -0.8799, -0.1813,  0.0196, -0.4049],\n",
       "        [ 0.1596, -0.2808, -0.5059, -0.6939, -0.3986,  0.1645, -1.3323, -0.2601,\n",
       "          0.6472,  2.4558, -0.0575,  1.7141, -0.5599, -1.2115, -0.2012,  1.9591],\n",
       "        [-0.6619,  0.3364, -0.0195, -2.3255,  1.0817,  0.8774,  0.0049, -0.4594,\n",
       "          0.7410,  0.6432,  1.1994,  0.8034, -0.4644,  1.5556,  0.9851,  0.0657],\n",
       "        [ 0.2277, -0.9011, -0.3297,  0.7469, -0.3064,  0.7549, -0.5971, -0.0401,\n",
       "          0.2532, -0.1926, -1.0207,  0.2927,  0.9363, -0.8661, -2.3472, -0.9762]])"
      ]
     },
     "execution_count": 11,
     "metadata": {},
     "output_type": "execute_result"
    }
   ],
   "source": [
    "input_node_embeddings.weight.data"
   ]
  },
  {
   "cell_type": "code",
   "execution_count": null,
   "metadata": {},
   "outputs": [
    {
     "data": {
      "text/plain": [
       "tensor([[ 0.3677,  0.1961, -0.4575, -0.2868, -0.3501, -0.2493, -0.3145,  0.4797,\n",
       "          0.0637, -0.2231,  0.4210,  0.3329, -0.3840,  0.3078,  0.0989,  0.1364],\n",
       "        [-0.4410,  0.1073,  0.4762,  0.2389,  0.4147,  0.3244,  0.4693, -0.2145,\n",
       "          0.2293,  0.0307,  0.3301,  0.4745, -0.0357,  0.4445, -0.3164, -0.1970],\n",
       "        [-0.2649,  0.2021, -0.3940,  0.4260, -0.0607,  0.4677, -0.3306,  0.0612,\n",
       "          0.3478,  0.3496, -0.0325,  0.0309,  0.2178,  0.0632,  0.1648,  0.4714],\n",
       "        [ 0.4461, -0.1188,  0.3893,  0.4462,  0.3637,  0.0942,  0.2324, -0.1691,\n",
       "          0.2501, -0.3223, -0.3623,  0.4676,  0.4427,  0.1891, -0.1469,  0.0237],\n",
       "        [ 0.2260,  0.2596,  0.0363,  0.1346,  0.2434, -0.2289,  0.2005,  0.1280,\n",
       "         -0.0460, -0.3925, -0.1939,  0.3543, -0.3781, -0.2190,  0.0548,  0.2837],\n",
       "        [ 0.3399,  0.0881, -0.0727,  0.0144, -0.1689, -0.0682,  0.3673,  0.3920,\n",
       "         -0.1178,  0.1036, -0.2327, -0.2228, -0.3812, -0.1952,  0.2823, -0.4644],\n",
       "        [ 0.4180, -0.2160,  0.2123, -0.0266, -0.3803, -0.2024, -0.2793,  0.2666,\n",
       "         -0.2080, -0.1116,  0.3602,  0.4096, -0.1558, -0.3336,  0.4413,  0.2797],\n",
       "        [-0.4536, -0.3811,  0.1618, -0.1919,  0.0272,  0.0258,  0.1271, -0.3638,\n",
       "          0.1905, -0.2466, -0.1201, -0.0841, -0.4235, -0.0044, -0.0220, -0.3623],\n",
       "        [-0.3958, -0.3249, -0.1498,  0.0506,  0.3861, -0.0187,  0.1572,  0.4262,\n",
       "          0.0158, -0.0562, -0.0431,  0.3878, -0.3966,  0.3341, -0.0206, -0.2900],\n",
       "        [ 0.1874,  0.4669, -0.1867, -0.4089,  0.2301,  0.2722,  0.0925, -0.1934,\n",
       "          0.4370, -0.0277,  0.1434,  0.2071,  0.4209,  0.4706,  0.1152,  0.3147]])"
      ]
     },
     "execution_count": 12,
     "metadata": {},
     "output_type": "execute_result"
    }
   ],
   "source": [
    "torch.nn.init.xavier_uniform_(input_node_embeddings.weight.data)"
   ]
  },
  {
   "cell_type": "code",
   "execution_count": null,
   "metadata": {},
   "outputs": [],
   "source": [
    "for i in range(len(kgdata.node_types)):\n",
    "    num_repeat=kgdata[kgdata.node_types[i]].x.shape[0]\n",
    "    kgdata[kgdata.node_types[i]].x =input_node_embeddings(torch.tensor(i)).repeat([num_repeat,1]).detach()"
   ]
  },
  {
   "cell_type": "code",
   "execution_count": null,
   "metadata": {},
   "outputs": [],
   "source": []
  }
 ],
 "metadata": {
  "kernelspec": {
   "display_name": "metagpt",
   "language": "python",
   "name": "python3"
  },
  "language_info": {
   "codemirror_mode": {
    "name": "ipython",
    "version": 3
   },
   "file_extension": ".py",
   "mimetype": "text/x-python",
   "name": "python",
   "nbconvert_exporter": "python",
   "pygments_lexer": "ipython3",
   "version": "3.11.5"
  }
 },
 "nbformat": 4,
 "nbformat_minor": 2
}
