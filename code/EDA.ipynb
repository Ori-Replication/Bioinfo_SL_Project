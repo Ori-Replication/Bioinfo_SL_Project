{
 "cells": [
  {
   "cell_type": "code",
   "execution_count": 8,
   "metadata": {},
   "outputs": [],
   "source": [
    "import pandas as pd\n",
    "import numpy as np\n",
    "import matplotlib.pyplot as plt\n"
   ]
  },
  {
   "cell_type": "code",
   "execution_count": 9,
   "metadata": {},
   "outputs": [],
   "source": [
    "import sys\n",
    "import os\n",
    "import icecream as ic\n",
    "\n",
    "ori_data_dir = '../data/original_data'\n",
    "A375_data = pd.read_csv(os.path.join(ori_data_dir, 'A375.csv'))\n",
    "A549_data = pd.read_csv(os.path.join(ori_data_dir, 'A549.csv'))\n",
    "Jurkat_data = pd.read_csv(os.path.join(ori_data_dir, 'Jurkat.csv'))\n"
   ]
  },
  {
   "cell_type": "code",
   "execution_count": 10,
   "metadata": {},
   "outputs": [
    {
     "data": {
      "text/html": [
       "<div>\n",
       "<style scoped>\n",
       "    .dataframe tbody tr th:only-of-type {\n",
       "        vertical-align: middle;\n",
       "    }\n",
       "\n",
       "    .dataframe tbody tr th {\n",
       "        vertical-align: top;\n",
       "    }\n",
       "\n",
       "    .dataframe thead th {\n",
       "        text-align: right;\n",
       "    }\n",
       "</style>\n",
       "<table border=\"1\" class=\"dataframe\">\n",
       "  <thead>\n",
       "    <tr style=\"text-align: right;\">\n",
       "      <th></th>\n",
       "      <th>gene1_name</th>\n",
       "      <th>gene2_name</th>\n",
       "      <th>cell_line</th>\n",
       "      <th>label</th>\n",
       "    </tr>\n",
       "  </thead>\n",
       "  <tbody>\n",
       "    <tr>\n",
       "      <th>0</th>\n",
       "      <td>MAP2K2</td>\n",
       "      <td>UBC</td>\n",
       "      <td>A375</td>\n",
       "      <td>0</td>\n",
       "    </tr>\n",
       "    <tr>\n",
       "      <th>1</th>\n",
       "      <td>HSP90AA1</td>\n",
       "      <td>MAP2K2</td>\n",
       "      <td>A375</td>\n",
       "      <td>0</td>\n",
       "    </tr>\n",
       "    <tr>\n",
       "      <th>2</th>\n",
       "      <td>CHEK2</td>\n",
       "      <td>MAP2K2</td>\n",
       "      <td>A375</td>\n",
       "      <td>0</td>\n",
       "    </tr>\n",
       "    <tr>\n",
       "      <th>3</th>\n",
       "      <td>AKT1</td>\n",
       "      <td>MAP2K2</td>\n",
       "      <td>A375</td>\n",
       "      <td>0</td>\n",
       "    </tr>\n",
       "    <tr>\n",
       "      <th>4</th>\n",
       "      <td>BCL2</td>\n",
       "      <td>MAP2K2</td>\n",
       "      <td>A375</td>\n",
       "      <td>0</td>\n",
       "    </tr>\n",
       "  </tbody>\n",
       "</table>\n",
       "</div>"
      ],
      "text/plain": [
       "  gene1_name gene2_name cell_line  label\n",
       "0     MAP2K2        UBC      A375      0\n",
       "1   HSP90AA1     MAP2K2      A375      0\n",
       "2      CHEK2     MAP2K2      A375      0\n",
       "3       AKT1     MAP2K2      A375      0\n",
       "4       BCL2     MAP2K2      A375      0"
      ]
     },
     "execution_count": 10,
     "metadata": {},
     "output_type": "execute_result"
    }
   ],
   "source": [
    "A375_data.head()"
   ]
  },
  {
   "cell_type": "code",
   "execution_count": 11,
   "metadata": {},
   "outputs": [
    {
     "name": "stdout",
     "output_type": "stream",
     "text": [
      "A375 zero label count: 513\n",
      "A549 zero label count: 4167\n",
      "Jurkat zero label count: 56996\n",
      "A375 one label count: 22\n",
      "A549 one label count: 179\n",
      "Jurkat one label count: 295\n"
     ]
    }
   ],
   "source": [
    "# count zero values in label\n",
    "def count_zero_label(data):\n",
    "    count = 0\n",
    "    for i in range(data.shape[0]):\n",
    "        if data['label'][i] == 0:\n",
    "            count += 1\n",
    "    return count\n",
    "\n",
    "def count_one_label(data):\n",
    "    count = 0\n",
    "    for i in range(data.shape[0]):\n",
    "        if data['label'][i] == 1:\n",
    "            count += 1\n",
    "    return count\n",
    "\n",
    "print('A375 zero label count:', count_zero_label(A375_data))\n",
    "print('A549 zero label count:', count_zero_label(A549_data))\n",
    "print('Jurkat zero label count:', count_zero_label(Jurkat_data))\n",
    "print('A375 one label count:', count_one_label(A375_data))\n",
    "print('A549 one label count:', count_one_label(A549_data))\n",
    "print('Jurkat one label count:', count_one_label(Jurkat_data))"
   ]
  },
  {
   "cell_type": "code",
   "execution_count": 15,
   "metadata": {},
   "outputs": [],
   "source": [
    "# Count Unique Gene number\n",
    "def get_unique_gene_list(data):\n",
    "    gene_list = []\n",
    "    for i in range(data.shape[0]):\n",
    "        gene_1 = data['gene1_name'][i]\n",
    "        gene_2 = data['gene2_name'][i]\n",
    "        if gene_1 not in gene_list:\n",
    "            gene_list.append(gene_1)\n",
    "        if gene_2 not in gene_list:\n",
    "            gene_list.append(gene_2)\n",
    "    return gene_list\n",
    "\n"
   ]
  },
  {
   "cell_type": "code",
   "execution_count": 16,
   "metadata": {},
   "outputs": [],
   "source": [
    "A375_gene_list = get_unique_gene_list(A375_data)\n",
    "A549_gene_list = get_unique_gene_list(A549_data)\n",
    "Jurkat_gene_list = get_unique_gene_list(Jurkat_data)"
   ]
  },
  {
   "cell_type": "code",
   "execution_count": 17,
   "metadata": {},
   "outputs": [
    {
     "name": "stdout",
     "output_type": "stream",
     "text": [
      "A375 Gene number: 396\n",
      "A549 Gene number: 755\n",
      "Jurkat Gene number: 339\n"
     ]
    }
   ],
   "source": [
    "print('A375 Gene number:', len(A375_gene_list))\n",
    "print('A549 Gene number:', len(A549_gene_list))\n",
    "print('Jurkat Gene number:', len(Jurkat_gene_list))\n"
   ]
  },
  {
   "cell_type": "code",
   "execution_count": 20,
   "metadata": {},
   "outputs": [
    {
     "data": {
      "image/png": "[encoded data removed]",
      "text/plain": [
       "<Figure size 800x800 with 1 Axes>"
      ]
     },
     "metadata": {},
     "output_type": "display_data"
    }
   ],
   "source": [
    "# 画图：维恩图\n",
    "from matplotlib_venn import venn3\n",
    "plt.figure(figsize=(8, 8))\n",
    "venn3([set(A375_gene_list), set(A549_gene_list), set(Jurkat_gene_list)], ('A375', 'A549', 'Jurkat'))\n",
    "# name: gene venn diagram\n",
    "plt.title('Gene Venn Diagram')\n",
    "plt.show()\n"
   ]
  },
  {
   "cell_type": "code",
   "execution_count": 31,
   "metadata": {},
   "outputs": [
    {
     "name": "stdout",
     "output_type": "stream",
     "text": [
      "A375 SL pairs number: 22\n",
      "A549 SL pairs number: 179\n",
      "Jurkat SL pairs number: 295\n"
     ]
    }
   ],
   "source": [
    "# Get SL pairs\n",
    "def get_SL_list(data):\n",
    "    SL_pairs = []\n",
    "    for i in range(data.shape[0]):\n",
    "        if data['label'][i] == 1:\n",
    "            gene_1 = data['gene1_name'][i]\n",
    "            gene_2 = data['gene2_name'][i]\n",
    "            SL_pairs.append((gene_1, gene_2))\n",
    "    return SL_pairs\n",
    "    \n",
    "A375_SL_pairs = get_SL_list(A375_data)\n",
    "A549_SL_pairs = get_SL_list(A549_data)\n",
    "Jurkat_SL_pairs = get_SL_list(Jurkat_data)\n",
    "print('A375 SL pairs number:', len(A375_SL_pairs))\n",
    "print('A549 SL pairs number:', len(A549_SL_pairs))\n",
    "print('Jurkat SL pairs number:', len(Jurkat_SL_pairs))\n"
   ]
  },
  {
   "cell_type": "code",
   "execution_count": 35,
   "metadata": {},
   "outputs": [
    {
     "name": "stdout",
     "output_type": "stream",
     "text": [
      "A375 and A549 identical SL pairs number: 0\n",
      "A375 and Jurkat identical SL pairs number: 0\n",
      "A549 and Jurkat identical SL pairs number: 0\n"
     ]
    }
   ],
   "source": [
    "# Find if there are identical SL pairs in different cell lines\n",
    "# remember to check the two orders of gene pairs\n",
    "def find_identical_SL_pairs(data1, data2):\n",
    "    SL_pairs1 = get_SL_list(data1)\n",
    "    SL_pairs2 = get_SL_list(data2)\n",
    "    identical_SL_pairs = []\n",
    "    for pair in SL_pairs1:\n",
    "        if pair in SL_pairs2:\n",
    "            identical_SL_pairs.append(pair)\n",
    "        reversed_pair = (pair[1], pair[0])\n",
    "        if reversed_pair in SL_pairs2:\n",
    "            identical_SL_pairs.append(pair)\n",
    "    return identical_SL_pairs\n",
    "\n",
    "A375_A549_identical_SL_pairs = find_identical_SL_pairs(A375_data, A549_data)\n",
    "A375_Jurkat_identical_SL_pairs = find_identical_SL_pairs(A375_data, Jurkat_data)\n",
    "A549_Jurkat_identical_SL_pairs = find_identical_SL_pairs(A549_data, Jurkat_data)\n",
    "\n",
    "print('A375 and A549 identical SL pairs number:', len(A375_A549_identical_SL_pairs))\n",
    "print('A375 and Jurkat identical SL pairs number:', len(A375_Jurkat_identical_SL_pairs))\n",
    "print('A549 and Jurkat identical SL pairs number:', len(A549_Jurkat_identical_SL_pairs))\n"
   ]
  },
  {
   "cell_type": "code",
   "execution_count": 33,
   "metadata": {},
   "outputs": [
    {
     "data": {
      "image/png": "[encoded data removed]",
      "text/plain": [
       "<Figure size 800x800 with 1 Axes>"
      ]
     },
     "metadata": {},
     "output_type": "display_data"
    }
   ],
   "source": [
    "# Draw Venn Diagram\n",
    "\n",
    "plt.figure(figsize=(8, 8))\n",
    "venn3([set(A375_SL_pairs), set(A549_SL_pairs), set(Jurkat_SL_pairs)], ('A375', 'A549', 'Jurkat'))\n",
    "plt.title('SL pairs Venn Diagram')\n",
    "plt.show()\n"
   ]
  },
  {
   "cell_type": "code",
   "execution_count": 36,
   "metadata": {},
   "outputs": [
    {
     "name": "stdout",
     "output_type": "stream",
     "text": [
      "A375 non SL pairs number: 513\n",
      "A549 non SL pairs number: 4167\n",
      "Jurkat non SL pairs number: 56996\n"
     ]
    }
   ],
   "source": [
    "# Check Non-sl\n",
    "def get_non_SL_list(data):\n",
    "    non_SL_pairs = []\n",
    "    for i in range(data.shape[0]):\n",
    "        if data['label'][i] == 0:\n",
    "            gene_1 = data['gene1_name'][i]\n",
    "            gene_2 = data['gene2_name'][i]\n",
    "            non_SL_pairs.append((gene_1, gene_2))\n",
    "    return non_SL_pairs\n",
    "\n",
    "A375_non_SL_pairs = get_non_SL_list(A375_data)\n",
    "A549_non_SL_pairs = get_non_SL_list(A549_data)\n",
    "Jurkat_non_SL_pairs = get_non_SL_list(Jurkat_data)\n",
    "print('A375 non SL pairs number:', len(A375_non_SL_pairs))\n",
    "print('A549 non SL pairs number:', len(A549_non_SL_pairs))\n",
    "print('Jurkat non SL pairs number:', len(Jurkat_non_SL_pairs))"
   ]
  },
  {
   "cell_type": "code",
   "execution_count": 38,
   "metadata": {},
   "outputs": [
    {
     "name": "stdout",
     "output_type": "stream",
     "text": [
      "A375 and A549 identical non SL pairs number: 302\n",
      "A375 and Jurkat identical non SL pairs number: 4\n",
      "A549 and Jurkat identical non SL pairs number: 3\n"
     ]
    }
   ],
   "source": [
    "# Find identical non SL pairs\n",
    "def find_identical_non_SL_pairs(data1, data2):\n",
    "    non_SL_pairs1 = get_non_SL_list(data1)\n",
    "    non_SL_pairs2 = get_non_SL_list(data2)\n",
    "    identical_non_SL_pairs = []\n",
    "    for pair in non_SL_pairs1:\n",
    "        if pair in non_SL_pairs2:\n",
    "            identical_non_SL_pairs.append(pair)\n",
    "        reversed_pair = (pair[1], pair[0])\n",
    "        if reversed_pair in non_SL_pairs2:\n",
    "            identical_non_SL_pairs.append(pair)\n",
    "    return identical_non_SL_pairs\n",
    "\n",
    "A375_A549_identical_non_SL_pairs = find_identical_non_SL_pairs(A375_data, A549_data)\n",
    "A375_Jurkat_identical_non_SL_pairs = find_identical_non_SL_pairs(A375_data, Jurkat_data)\n",
    "A549_Jurkat_identical_non_SL_pairs = find_identical_non_SL_pairs(A549_data, Jurkat_data)\n",
    "\n",
    "print('A375 and A549 identical non SL pairs number:', len(A375_A549_identical_non_SL_pairs))\n",
    "print('A375 and Jurkat identical non SL pairs number:', len(A375_Jurkat_identical_non_SL_pairs))\n",
    "print('A549 and Jurkat identical non SL pairs number:', len(A549_Jurkat_identical_non_SL_pairs))\n"
   ]
  },
  {
   "cell_type": "code",
   "execution_count": 40,
   "metadata": {},
   "outputs": [
    {
     "data": {
      "text/plain": [
       "[('BUB3', 'RAE1'), ('POLR2B', 'POLR3B'), ('PGD', 'PGK1')]"
      ]
     },
     "execution_count": 40,
     "metadata": {},
     "output_type": "execute_result"
    }
   ],
   "source": [
    "A549_Jurkat_identical_non_SL_pairs"
   ]
  },
  {
   "cell_type": "code",
   "execution_count": 39,
   "metadata": {},
   "outputs": [
    {
     "data": {
      "image/png": "[encoded data removed]",
      "text/plain": [
       "<Figure size 800x800 with 1 Axes>"
      ]
     },
     "metadata": {},
     "output_type": "display_data"
    }
   ],
   "source": [
    "# Draw Venn Diagram\n",
    "plt.figure(figsize=(8, 8))\n",
    "venn3([set(A375_non_SL_pairs), set(A549_non_SL_pairs), set(Jurkat_non_SL_pairs)], ('A375', 'A549', 'Jurkat'))\n",
    "plt.title('Non SL pairs Venn Diagram')\n",
    "plt.show()"
   ]
  },
  {
   "cell_type": "code",
   "execution_count": 41,
   "metadata": {},
   "outputs": [],
   "source": [
    "cell_line_adapted_train_data_path = '../data/original_data/Cell_line_adapted/sl_train_0.csv'\n",
    "cell_line_adapted_train_data = pd.read_csv(cell_line_adapted_train_data_path)"
   ]
  },
  {
   "cell_type": "code",
   "execution_count": 44,
   "metadata": {},
   "outputs": [
    {
     "data": {
      "text/html": [
       "<div>\n",
       "<style scoped>\n",
       "    .dataframe tbody tr th:only-of-type {\n",
       "        vertical-align: middle;\n",
       "    }\n",
       "\n",
       "    .dataframe tbody tr th {\n",
       "        vertical-align: top;\n",
       "    }\n",
       "\n",
       "    .dataframe thead th {\n",
       "        text-align: right;\n",
       "    }\n",
       "</style>\n",
       "<table border=\"1\" class=\"dataframe\">\n",
       "  <thead>\n",
       "    <tr style=\"text-align: right;\">\n",
       "      <th></th>\n",
       "      <th>gene1_name</th>\n",
       "      <th>gene2_name</th>\n",
       "      <th>cell_line</th>\n",
       "      <th>label</th>\n",
       "    </tr>\n",
       "  </thead>\n",
       "  <tbody>\n",
       "    <tr>\n",
       "      <th>0</th>\n",
       "      <td>MAP2K2</td>\n",
       "      <td>UBC</td>\n",
       "      <td>0</td>\n",
       "      <td>0.0</td>\n",
       "    </tr>\n",
       "    <tr>\n",
       "      <th>1</th>\n",
       "      <td>HSP90AA1</td>\n",
       "      <td>MAP2K2</td>\n",
       "      <td>0</td>\n",
       "      <td>0.0</td>\n",
       "    </tr>\n",
       "    <tr>\n",
       "      <th>2</th>\n",
       "      <td>CHEK2</td>\n",
       "      <td>MAP2K2</td>\n",
       "      <td>0</td>\n",
       "      <td>0.0</td>\n",
       "    </tr>\n",
       "    <tr>\n",
       "      <th>3</th>\n",
       "      <td>AKT1</td>\n",
       "      <td>MAP2K2</td>\n",
       "      <td>0</td>\n",
       "      <td>0.0</td>\n",
       "    </tr>\n",
       "    <tr>\n",
       "      <th>4</th>\n",
       "      <td>BCL2</td>\n",
       "      <td>MAP2K2</td>\n",
       "      <td>0</td>\n",
       "      <td>0.0</td>\n",
       "    </tr>\n",
       "    <tr>\n",
       "      <th>...</th>\n",
       "      <td>...</td>\n",
       "      <td>...</td>\n",
       "      <td>...</td>\n",
       "      <td>...</td>\n",
       "    </tr>\n",
       "    <tr>\n",
       "      <th>57821</th>\n",
       "      <td>ZNF598</td>\n",
       "      <td>ZNHIT6</td>\n",
       "      <td>Jurkat</td>\n",
       "      <td>0.0</td>\n",
       "    </tr>\n",
       "    <tr>\n",
       "      <th>57822</th>\n",
       "      <td>ZNF598</td>\n",
       "      <td>ZNRD1</td>\n",
       "      <td>Jurkat</td>\n",
       "      <td>0.0</td>\n",
       "    </tr>\n",
       "    <tr>\n",
       "      <th>57823</th>\n",
       "      <td>ZNF830</td>\n",
       "      <td>ZNHIT6</td>\n",
       "      <td>Jurkat</td>\n",
       "      <td>0.0</td>\n",
       "    </tr>\n",
       "    <tr>\n",
       "      <th>57824</th>\n",
       "      <td>ZNF830</td>\n",
       "      <td>ZNRD1</td>\n",
       "      <td>Jurkat</td>\n",
       "      <td>0.0</td>\n",
       "    </tr>\n",
       "    <tr>\n",
       "      <th>57825</th>\n",
       "      <td>ZNHIT6</td>\n",
       "      <td>ZNRD1</td>\n",
       "      <td>Jurkat</td>\n",
       "      <td>0.0</td>\n",
       "    </tr>\n",
       "  </tbody>\n",
       "</table>\n",
       "<p>57826 rows × 4 columns</p>\n",
       "</div>"
      ],
      "text/plain": [
       "      gene1_name gene2_name cell_line  label\n",
       "0         MAP2K2        UBC         0    0.0\n",
       "1       HSP90AA1     MAP2K2         0    0.0\n",
       "2          CHEK2     MAP2K2         0    0.0\n",
       "3           AKT1     MAP2K2         0    0.0\n",
       "4           BCL2     MAP2K2         0    0.0\n",
       "...          ...        ...       ...    ...\n",
       "57821     ZNF598     ZNHIT6    Jurkat    0.0\n",
       "57822     ZNF598      ZNRD1    Jurkat    0.0\n",
       "57823     ZNF830     ZNHIT6    Jurkat    0.0\n",
       "57824     ZNF830      ZNRD1    Jurkat    0.0\n",
       "57825     ZNHIT6      ZNRD1    Jurkat    0.0\n",
       "\n",
       "[57826 rows x 4 columns]"
      ]
     },
     "execution_count": 44,
     "metadata": {},
     "output_type": "execute_result"
    }
   ],
   "source": [
    "cell_line_adapted_train_data"
   ]
  },
  {
   "cell_type": "code",
   "execution_count": null,
   "metadata": {},
   "outputs": [],
   "source": []
  }
 ],
 "metadata": {
  "kernelspec": {
   "display_name": "metagpt",
   "language": "python",
   "name": "python3"
  },
  "language_info": {
   "codemirror_mode": {
    "name": "ipython",
    "version": 3
   },
   "file_extension": ".py",
   "mimetype": "text/x-python",
   "name": "python",
   "nbconvert_exporter": "python",
   "pygments_lexer": "ipython3",
   "version": "3.11.5"
  }
 },
 "nbformat": 4,
 "nbformat_minor": 2
}
